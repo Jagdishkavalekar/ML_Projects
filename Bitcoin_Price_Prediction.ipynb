{
 "cells": [
  {
   "cell_type": "code",
   "execution_count": 1,
   "id": "476df4fa",
   "metadata": {},
   "outputs": [],
   "source": [
    "import numpy as np\n",
    "import pandas as pd\n",
    "\n",
    "import seaborn as sns\n",
    "import matplotlib.pyplot as plt\n",
    "\n",
    "from sklearn.linear_model import LinearRegression\n",
    "from sklearn.tree import DecisionTreeRegressor\n",
    "from sklearn.ensemble import RandomForestRegressor\n",
    "from sklearn.neighbors import KNeighborsRegressor\n",
    "\n",
    "from sklearn.model_selection import train_test_split,GridSearchCV,RandomizedSearchCV\n",
    "\n",
    "from sklearn.metrics import r2_score,mean_absolute_error,mean_squared_error\n",
    "\n",
    "import warnings\n",
    "warnings.filterwarnings(\"ignore\")"
   ]
  },
  {
   "cell_type": "code",
   "execution_count": 2,
   "id": "80f04c02",
   "metadata": {},
   "outputs": [
    {
     "data": {
      "text/html": [
       "<div>\n",
       "<style scoped>\n",
       "    .dataframe tbody tr th:only-of-type {\n",
       "        vertical-align: middle;\n",
       "    }\n",
       "\n",
       "    .dataframe tbody tr th {\n",
       "        vertical-align: top;\n",
       "    }\n",
       "\n",
       "    .dataframe thead th {\n",
       "        text-align: right;\n",
       "    }\n",
       "</style>\n",
       "<table border=\"1\" class=\"dataframe\">\n",
       "  <thead>\n",
       "    <tr style=\"text-align: right;\">\n",
       "      <th></th>\n",
       "      <th>Timestamp</th>\n",
       "      <th>Open</th>\n",
       "      <th>High</th>\n",
       "      <th>Low</th>\n",
       "      <th>Close</th>\n",
       "      <th>Volume_(BTC)</th>\n",
       "      <th>Volume_(Currency)</th>\n",
       "      <th>Weighted_Price</th>\n",
       "    </tr>\n",
       "  </thead>\n",
       "  <tbody>\n",
       "    <tr>\n",
       "      <th>0</th>\n",
       "      <td>1325317920</td>\n",
       "      <td>4.39</td>\n",
       "      <td>4.39</td>\n",
       "      <td>4.39</td>\n",
       "      <td>4.39</td>\n",
       "      <td>0.455581</td>\n",
       "      <td>2.000000</td>\n",
       "      <td>4.390000</td>\n",
       "    </tr>\n",
       "    <tr>\n",
       "      <th>1</th>\n",
       "      <td>1325317980</td>\n",
       "      <td>NaN</td>\n",
       "      <td>NaN</td>\n",
       "      <td>NaN</td>\n",
       "      <td>NaN</td>\n",
       "      <td>NaN</td>\n",
       "      <td>NaN</td>\n",
       "      <td>NaN</td>\n",
       "    </tr>\n",
       "    <tr>\n",
       "      <th>2</th>\n",
       "      <td>1325318040</td>\n",
       "      <td>NaN</td>\n",
       "      <td>NaN</td>\n",
       "      <td>NaN</td>\n",
       "      <td>NaN</td>\n",
       "      <td>NaN</td>\n",
       "      <td>NaN</td>\n",
       "      <td>NaN</td>\n",
       "    </tr>\n",
       "    <tr>\n",
       "      <th>3</th>\n",
       "      <td>1325318100</td>\n",
       "      <td>NaN</td>\n",
       "      <td>NaN</td>\n",
       "      <td>NaN</td>\n",
       "      <td>NaN</td>\n",
       "      <td>NaN</td>\n",
       "      <td>NaN</td>\n",
       "      <td>NaN</td>\n",
       "    </tr>\n",
       "    <tr>\n",
       "      <th>4</th>\n",
       "      <td>1325318160</td>\n",
       "      <td>NaN</td>\n",
       "      <td>NaN</td>\n",
       "      <td>NaN</td>\n",
       "      <td>NaN</td>\n",
       "      <td>NaN</td>\n",
       "      <td>NaN</td>\n",
       "      <td>NaN</td>\n",
       "    </tr>\n",
       "    <tr>\n",
       "      <th>...</th>\n",
       "      <td>...</td>\n",
       "      <td>...</td>\n",
       "      <td>...</td>\n",
       "      <td>...</td>\n",
       "      <td>...</td>\n",
       "      <td>...</td>\n",
       "      <td>...</td>\n",
       "      <td>...</td>\n",
       "    </tr>\n",
       "    <tr>\n",
       "      <th>4857372</th>\n",
       "      <td>1617148560</td>\n",
       "      <td>58714.31</td>\n",
       "      <td>58714.31</td>\n",
       "      <td>58686.00</td>\n",
       "      <td>58686.00</td>\n",
       "      <td>1.384487</td>\n",
       "      <td>81259.372187</td>\n",
       "      <td>58692.753339</td>\n",
       "    </tr>\n",
       "    <tr>\n",
       "      <th>4857373</th>\n",
       "      <td>1617148620</td>\n",
       "      <td>58683.97</td>\n",
       "      <td>58693.43</td>\n",
       "      <td>58683.97</td>\n",
       "      <td>58685.81</td>\n",
       "      <td>7.294848</td>\n",
       "      <td>428158.146640</td>\n",
       "      <td>58693.226508</td>\n",
       "    </tr>\n",
       "    <tr>\n",
       "      <th>4857374</th>\n",
       "      <td>1617148680</td>\n",
       "      <td>58693.43</td>\n",
       "      <td>58723.84</td>\n",
       "      <td>58693.43</td>\n",
       "      <td>58723.84</td>\n",
       "      <td>1.705682</td>\n",
       "      <td>100117.070370</td>\n",
       "      <td>58696.198496</td>\n",
       "    </tr>\n",
       "    <tr>\n",
       "      <th>4857375</th>\n",
       "      <td>1617148740</td>\n",
       "      <td>58742.18</td>\n",
       "      <td>58770.38</td>\n",
       "      <td>58742.18</td>\n",
       "      <td>58760.59</td>\n",
       "      <td>0.720415</td>\n",
       "      <td>42332.958633</td>\n",
       "      <td>58761.866202</td>\n",
       "    </tr>\n",
       "    <tr>\n",
       "      <th>4857376</th>\n",
       "      <td>1617148800</td>\n",
       "      <td>58767.75</td>\n",
       "      <td>58778.18</td>\n",
       "      <td>58755.97</td>\n",
       "      <td>58778.18</td>\n",
       "      <td>2.712831</td>\n",
       "      <td>159417.751000</td>\n",
       "      <td>58764.349363</td>\n",
       "    </tr>\n",
       "  </tbody>\n",
       "</table>\n",
       "<p>4857377 rows × 8 columns</p>\n",
       "</div>"
      ],
      "text/plain": [
       "          Timestamp      Open      High       Low     Close  Volume_(BTC)  \\\n",
       "0        1325317920      4.39      4.39      4.39      4.39      0.455581   \n",
       "1        1325317980       NaN       NaN       NaN       NaN           NaN   \n",
       "2        1325318040       NaN       NaN       NaN       NaN           NaN   \n",
       "3        1325318100       NaN       NaN       NaN       NaN           NaN   \n",
       "4        1325318160       NaN       NaN       NaN       NaN           NaN   \n",
       "...             ...       ...       ...       ...       ...           ...   \n",
       "4857372  1617148560  58714.31  58714.31  58686.00  58686.00      1.384487   \n",
       "4857373  1617148620  58683.97  58693.43  58683.97  58685.81      7.294848   \n",
       "4857374  1617148680  58693.43  58723.84  58693.43  58723.84      1.705682   \n",
       "4857375  1617148740  58742.18  58770.38  58742.18  58760.59      0.720415   \n",
       "4857376  1617148800  58767.75  58778.18  58755.97  58778.18      2.712831   \n",
       "\n",
       "         Volume_(Currency)  Weighted_Price  \n",
       "0                 2.000000        4.390000  \n",
       "1                      NaN             NaN  \n",
       "2                      NaN             NaN  \n",
       "3                      NaN             NaN  \n",
       "4                      NaN             NaN  \n",
       "...                    ...             ...  \n",
       "4857372       81259.372187    58692.753339  \n",
       "4857373      428158.146640    58693.226508  \n",
       "4857374      100117.070370    58696.198496  \n",
       "4857375       42332.958633    58761.866202  \n",
       "4857376      159417.751000    58764.349363  \n",
       "\n",
       "[4857377 rows x 8 columns]"
      ]
     },
     "execution_count": 2,
     "metadata": {},
     "output_type": "execute_result"
    }
   ],
   "source": [
    "df=pd.read_csv(\"bitcoin.csv\")\n",
    "df"
   ]
  },
  {
   "cell_type": "code",
   "execution_count": 3,
   "id": "548e93cb",
   "metadata": {},
   "outputs": [],
   "source": [
    "df.Timestamp=pd.to_datetime(df.Timestamp,unit=\"s\")\n",
    "df.index=df.Timestamp\n",
    "df=df.resample(\"M\").mean()"
   ]
  },
  {
   "cell_type": "code",
   "execution_count": 4,
   "id": "ba1cc411",
   "metadata": {},
   "outputs": [
    {
     "data": {
      "text/html": [
       "<div>\n",
       "<style scoped>\n",
       "    .dataframe tbody tr th:only-of-type {\n",
       "        vertical-align: middle;\n",
       "    }\n",
       "\n",
       "    .dataframe tbody tr th {\n",
       "        vertical-align: top;\n",
       "    }\n",
       "\n",
       "    .dataframe thead th {\n",
       "        text-align: right;\n",
       "    }\n",
       "</style>\n",
       "<table border=\"1\" class=\"dataframe\">\n",
       "  <thead>\n",
       "    <tr style=\"text-align: right;\">\n",
       "      <th></th>\n",
       "      <th>Open</th>\n",
       "      <th>High</th>\n",
       "      <th>Low</th>\n",
       "      <th>Close</th>\n",
       "      <th>Volume_(BTC)</th>\n",
       "      <th>Volume_(Currency)</th>\n",
       "      <th>Weighted_Price</th>\n",
       "    </tr>\n",
       "    <tr>\n",
       "      <th>Timestamp</th>\n",
       "      <th></th>\n",
       "      <th></th>\n",
       "      <th></th>\n",
       "      <th></th>\n",
       "      <th></th>\n",
       "      <th></th>\n",
       "      <th></th>\n",
       "    </tr>\n",
       "  </thead>\n",
       "  <tbody>\n",
       "    <tr>\n",
       "      <th>2011-12-31</th>\n",
       "      <td>4.465000</td>\n",
       "      <td>4.482500</td>\n",
       "      <td>4.465000</td>\n",
       "      <td>4.482500</td>\n",
       "      <td>23.829470</td>\n",
       "      <td>106.330084</td>\n",
       "      <td>4.471603</td>\n",
       "    </tr>\n",
       "    <tr>\n",
       "      <th>2012-01-31</th>\n",
       "      <td>6.345389</td>\n",
       "      <td>6.348982</td>\n",
       "      <td>6.341218</td>\n",
       "      <td>6.346148</td>\n",
       "      <td>4.031777</td>\n",
       "      <td>25.168238</td>\n",
       "      <td>6.345955</td>\n",
       "    </tr>\n",
       "    <tr>\n",
       "      <th>2012-02-29</th>\n",
       "      <td>5.230208</td>\n",
       "      <td>5.231646</td>\n",
       "      <td>5.227036</td>\n",
       "      <td>5.228510</td>\n",
       "      <td>8.313993</td>\n",
       "      <td>42.239422</td>\n",
       "      <td>5.228443</td>\n",
       "    </tr>\n",
       "    <tr>\n",
       "      <th>2012-03-31</th>\n",
       "      <td>4.985481</td>\n",
       "      <td>4.986695</td>\n",
       "      <td>4.982580</td>\n",
       "      <td>4.983828</td>\n",
       "      <td>15.197791</td>\n",
       "      <td>76.509751</td>\n",
       "      <td>4.984397</td>\n",
       "    </tr>\n",
       "    <tr>\n",
       "      <th>2012-04-30</th>\n",
       "      <td>4.995171</td>\n",
       "      <td>4.996447</td>\n",
       "      <td>4.993763</td>\n",
       "      <td>4.995079</td>\n",
       "      <td>21.683913</td>\n",
       "      <td>108.218094</td>\n",
       "      <td>4.995091</td>\n",
       "    </tr>\n",
       "    <tr>\n",
       "      <th>...</th>\n",
       "      <td>...</td>\n",
       "      <td>...</td>\n",
       "      <td>...</td>\n",
       "      <td>...</td>\n",
       "      <td>...</td>\n",
       "      <td>...</td>\n",
       "      <td>...</td>\n",
       "    </tr>\n",
       "    <tr>\n",
       "      <th>2020-11-30</th>\n",
       "      <td>16535.778528</td>\n",
       "      <td>16545.663704</td>\n",
       "      <td>16525.571002</td>\n",
       "      <td>16536.023486</td>\n",
       "      <td>6.695166</td>\n",
       "      <td>111021.991229</td>\n",
       "      <td>16535.990325</td>\n",
       "    </tr>\n",
       "    <tr>\n",
       "      <th>2020-12-31</th>\n",
       "      <td>21811.751812</td>\n",
       "      <td>21826.119052</td>\n",
       "      <td>21796.889787</td>\n",
       "      <td>21812.155606</td>\n",
       "      <td>5.742400</td>\n",
       "      <td>129237.684380</td>\n",
       "      <td>21811.782847</td>\n",
       "    </tr>\n",
       "    <tr>\n",
       "      <th>2021-01-31</th>\n",
       "      <td>34554.125793</td>\n",
       "      <td>34594.169353</td>\n",
       "      <td>34512.497779</td>\n",
       "      <td>34554.252479</td>\n",
       "      <td>10.253061</td>\n",
       "      <td>352510.183906</td>\n",
       "      <td>34552.337249</td>\n",
       "    </tr>\n",
       "    <tr>\n",
       "      <th>2021-02-28</th>\n",
       "      <td>46077.343214</td>\n",
       "      <td>46117.833367</td>\n",
       "      <td>46036.025287</td>\n",
       "      <td>46077.905341</td>\n",
       "      <td>5.965070</td>\n",
       "      <td>274360.971284</td>\n",
       "      <td>46075.783298</td>\n",
       "    </tr>\n",
       "    <tr>\n",
       "      <th>2021-03-31</th>\n",
       "      <td>54500.773215</td>\n",
       "      <td>54536.467642</td>\n",
       "      <td>54465.302911</td>\n",
       "      <td>54501.997804</td>\n",
       "      <td>3.555766</td>\n",
       "      <td>193360.583713</td>\n",
       "      <td>54499.282182</td>\n",
       "    </tr>\n",
       "  </tbody>\n",
       "</table>\n",
       "<p>112 rows × 7 columns</p>\n",
       "</div>"
      ],
      "text/plain": [
       "                    Open          High           Low         Close  \\\n",
       "Timestamp                                                            \n",
       "2011-12-31      4.465000      4.482500      4.465000      4.482500   \n",
       "2012-01-31      6.345389      6.348982      6.341218      6.346148   \n",
       "2012-02-29      5.230208      5.231646      5.227036      5.228510   \n",
       "2012-03-31      4.985481      4.986695      4.982580      4.983828   \n",
       "2012-04-30      4.995171      4.996447      4.993763      4.995079   \n",
       "...                  ...           ...           ...           ...   \n",
       "2020-11-30  16535.778528  16545.663704  16525.571002  16536.023486   \n",
       "2020-12-31  21811.751812  21826.119052  21796.889787  21812.155606   \n",
       "2021-01-31  34554.125793  34594.169353  34512.497779  34554.252479   \n",
       "2021-02-28  46077.343214  46117.833367  46036.025287  46077.905341   \n",
       "2021-03-31  54500.773215  54536.467642  54465.302911  54501.997804   \n",
       "\n",
       "            Volume_(BTC)  Volume_(Currency)  Weighted_Price  \n",
       "Timestamp                                                    \n",
       "2011-12-31     23.829470         106.330084        4.471603  \n",
       "2012-01-31      4.031777          25.168238        6.345955  \n",
       "2012-02-29      8.313993          42.239422        5.228443  \n",
       "2012-03-31     15.197791          76.509751        4.984397  \n",
       "2012-04-30     21.683913         108.218094        4.995091  \n",
       "...                  ...                ...             ...  \n",
       "2020-11-30      6.695166      111021.991229    16535.990325  \n",
       "2020-12-31      5.742400      129237.684380    21811.782847  \n",
       "2021-01-31     10.253061      352510.183906    34552.337249  \n",
       "2021-02-28      5.965070      274360.971284    46075.783298  \n",
       "2021-03-31      3.555766      193360.583713    54499.282182  \n",
       "\n",
       "[112 rows x 7 columns]"
      ]
     },
     "execution_count": 4,
     "metadata": {},
     "output_type": "execute_result"
    }
   ],
   "source": [
    "df"
   ]
  },
  {
   "cell_type": "code",
   "execution_count": 5,
   "id": "b25d3e03",
   "metadata": {},
   "outputs": [
    {
     "data": {
      "text/plain": [
       "(112, 7)"
      ]
     },
     "execution_count": 5,
     "metadata": {},
     "output_type": "execute_result"
    }
   ],
   "source": [
    "df.shape"
   ]
  },
  {
   "cell_type": "code",
   "execution_count": 6,
   "id": "8b0dfaa1",
   "metadata": {},
   "outputs": [
    {
     "data": {
      "text/plain": [
       "Index(['Open', 'High', 'Low', 'Close', 'Volume_(BTC)', 'Volume_(Currency)',\n",
       "       'Weighted_Price'],\n",
       "      dtype='object')"
      ]
     },
     "execution_count": 6,
     "metadata": {},
     "output_type": "execute_result"
    }
   ],
   "source": [
    "df.columns"
   ]
  },
  {
   "cell_type": "code",
   "execution_count": 7,
   "id": "990d6c87",
   "metadata": {},
   "outputs": [],
   "source": [
    "df.rename({\"Volume_(BTC)\":\"Volume_BTC\"},axis=1,inplace=True)\n",
    "df.rename({\"Volume_(Currency)\":\"Volume_Currency\"},axis=1,inplace=True)"
   ]
  },
  {
   "cell_type": "code",
   "execution_count": 8,
   "id": "6afbb879",
   "metadata": {},
   "outputs": [
    {
     "data": {
      "text/plain": [
       "Open               0\n",
       "High               0\n",
       "Low                0\n",
       "Close              0\n",
       "Volume_BTC         0\n",
       "Volume_Currency    0\n",
       "Weighted_Price     0\n",
       "dtype: int64"
      ]
     },
     "execution_count": 8,
     "metadata": {},
     "output_type": "execute_result"
    }
   ],
   "source": [
    "df.isna().sum()"
   ]
  },
  {
   "cell_type": "code",
   "execution_count": 9,
   "id": "c923bbec",
   "metadata": {},
   "outputs": [
    {
     "data": {
      "text/html": [
       "<div>\n",
       "<style scoped>\n",
       "    .dataframe tbody tr th:only-of-type {\n",
       "        vertical-align: middle;\n",
       "    }\n",
       "\n",
       "    .dataframe tbody tr th {\n",
       "        vertical-align: top;\n",
       "    }\n",
       "\n",
       "    .dataframe thead th {\n",
       "        text-align: right;\n",
       "    }\n",
       "</style>\n",
       "<table border=\"1\" class=\"dataframe\">\n",
       "  <thead>\n",
       "    <tr style=\"text-align: right;\">\n",
       "      <th></th>\n",
       "      <th>Open</th>\n",
       "      <th>High</th>\n",
       "      <th>Low</th>\n",
       "      <th>Close</th>\n",
       "      <th>Volume_BTC</th>\n",
       "      <th>Volume_Currency</th>\n",
       "      <th>Weighted_Price</th>\n",
       "    </tr>\n",
       "  </thead>\n",
       "  <tbody>\n",
       "    <tr>\n",
       "      <th>Open</th>\n",
       "      <td>1.000000</td>\n",
       "      <td>1.000000</td>\n",
       "      <td>1.000000</td>\n",
       "      <td>1.000000</td>\n",
       "      <td>-0.329473</td>\n",
       "      <td>0.891733</td>\n",
       "      <td>1.000000</td>\n",
       "    </tr>\n",
       "    <tr>\n",
       "      <th>High</th>\n",
       "      <td>1.000000</td>\n",
       "      <td>1.000000</td>\n",
       "      <td>1.000000</td>\n",
       "      <td>1.000000</td>\n",
       "      <td>-0.329385</td>\n",
       "      <td>0.891842</td>\n",
       "      <td>1.000000</td>\n",
       "    </tr>\n",
       "    <tr>\n",
       "      <th>Low</th>\n",
       "      <td>1.000000</td>\n",
       "      <td>1.000000</td>\n",
       "      <td>1.000000</td>\n",
       "      <td>1.000000</td>\n",
       "      <td>-0.329571</td>\n",
       "      <td>0.891600</td>\n",
       "      <td>1.000000</td>\n",
       "    </tr>\n",
       "    <tr>\n",
       "      <th>Close</th>\n",
       "      <td>1.000000</td>\n",
       "      <td>1.000000</td>\n",
       "      <td>1.000000</td>\n",
       "      <td>1.000000</td>\n",
       "      <td>-0.329471</td>\n",
       "      <td>0.891728</td>\n",
       "      <td>1.000000</td>\n",
       "    </tr>\n",
       "    <tr>\n",
       "      <th>Volume_BTC</th>\n",
       "      <td>-0.329473</td>\n",
       "      <td>-0.329385</td>\n",
       "      <td>-0.329571</td>\n",
       "      <td>-0.329471</td>\n",
       "      <td>1.000000</td>\n",
       "      <td>-0.222282</td>\n",
       "      <td>-0.329486</td>\n",
       "    </tr>\n",
       "    <tr>\n",
       "      <th>Volume_Currency</th>\n",
       "      <td>0.891733</td>\n",
       "      <td>0.891842</td>\n",
       "      <td>0.891600</td>\n",
       "      <td>0.891728</td>\n",
       "      <td>-0.222282</td>\n",
       "      <td>1.000000</td>\n",
       "      <td>0.891721</td>\n",
       "    </tr>\n",
       "    <tr>\n",
       "      <th>Weighted_Price</th>\n",
       "      <td>1.000000</td>\n",
       "      <td>1.000000</td>\n",
       "      <td>1.000000</td>\n",
       "      <td>1.000000</td>\n",
       "      <td>-0.329486</td>\n",
       "      <td>0.891721</td>\n",
       "      <td>1.000000</td>\n",
       "    </tr>\n",
       "  </tbody>\n",
       "</table>\n",
       "</div>"
      ],
      "text/plain": [
       "                     Open      High       Low     Close  Volume_BTC  \\\n",
       "Open             1.000000  1.000000  1.000000  1.000000   -0.329473   \n",
       "High             1.000000  1.000000  1.000000  1.000000   -0.329385   \n",
       "Low              1.000000  1.000000  1.000000  1.000000   -0.329571   \n",
       "Close            1.000000  1.000000  1.000000  1.000000   -0.329471   \n",
       "Volume_BTC      -0.329473 -0.329385 -0.329571 -0.329471    1.000000   \n",
       "Volume_Currency  0.891733  0.891842  0.891600  0.891728   -0.222282   \n",
       "Weighted_Price   1.000000  1.000000  1.000000  1.000000   -0.329486   \n",
       "\n",
       "                 Volume_Currency  Weighted_Price  \n",
       "Open                    0.891733        1.000000  \n",
       "High                    0.891842        1.000000  \n",
       "Low                     0.891600        1.000000  \n",
       "Close                   0.891728        1.000000  \n",
       "Volume_BTC             -0.222282       -0.329486  \n",
       "Volume_Currency         1.000000        0.891721  \n",
       "Weighted_Price          0.891721        1.000000  "
      ]
     },
     "execution_count": 9,
     "metadata": {},
     "output_type": "execute_result"
    }
   ],
   "source": [
    "df.corr()"
   ]
  },
  {
   "cell_type": "code",
   "execution_count": 10,
   "id": "bd319c85",
   "metadata": {},
   "outputs": [
    {
     "data": {
      "text/plain": [
       "<AxesSubplot:>"
      ]
     },
     "execution_count": 10,
     "metadata": {},
     "output_type": "execute_result"
    },
    {
     "data": {
      "image/png": "[encoded data removed]",
      "text/plain": [
       "<Figure size 720x504 with 2 Axes>"
      ]
     },
     "metadata": {
      "needs_background": "light"
     },
     "output_type": "display_data"
    }
   ],
   "source": [
    "plt.figure(figsize=(10,7))\n",
    "sns.heatmap(df.corr(),annot=True)"
   ]
  },
  {
   "cell_type": "code",
   "execution_count": 11,
   "id": "6a852dfa",
   "metadata": {},
   "outputs": [
    {
     "data": {
      "text/plain": [
       "<AxesSubplot:>"
      ]
     },
     "execution_count": 11,
     "metadata": {},
     "output_type": "execute_result"
    },
    {
     "data": {
      "image/png": "[encoded data removed]",
      "text/plain": [
       "<Figure size 720x72 with 2 Axes>"
      ]
     },
     "metadata": {
      "needs_background": "light"
     },
     "output_type": "display_data"
    }
   ],
   "source": [
    "plt.figure(figsize=(10,1))\n",
    "sns.heatmap(df.corr().tail(1),annot=True,cmap=\"YlGnBu\")"
   ]
  },
  {
   "cell_type": "code",
   "execution_count": 12,
   "id": "6907d563",
   "metadata": {},
   "outputs": [],
   "source": [
    "prices=df.Weighted_Price"
   ]
  },
  {
   "cell_type": "code",
   "execution_count": 13,
   "id": "4c168f93",
   "metadata": {},
   "outputs": [
    {
     "data": {
      "text/plain": [
       "<AxesSubplot:xlabel='Timestamp', ylabel='Weighted_Price'>"
      ]
     },
     "execution_count": 13,
     "metadata": {},
     "output_type": "execute_result"
    },
    {
     "data": {
      "image/png": "[encoded data removed]",
      "text/plain": [
       "<Figure size 720x360 with 1 Axes>"
      ]
     },
     "metadata": {
      "needs_background": "light"
     },
     "output_type": "display_data"
    }
   ],
   "source": [
    "plt.figure(figsize=(10,5))\n",
    "sns.lineplot(x=df.index,y=prices)"
   ]
  },
  {
   "cell_type": "markdown",
   "id": "5fd8cc9e",
   "metadata": {},
   "source": [
    "# Percentage of NaN values"
   ]
  },
  {
   "cell_type": "code",
   "execution_count": 14,
   "id": "9d404b5c",
   "metadata": {},
   "outputs": [
    {
     "data": {
      "text/plain": [
       "<AxesSubplot:>"
      ]
     },
     "execution_count": 14,
     "metadata": {},
     "output_type": "execute_result"
    },
    {
     "data": {
      "image/png": "[encoded data removed]",
      "text/plain": [
       "<Figure size 432x288 with 1 Axes>"
      ]
     },
     "metadata": {
      "needs_background": "light"
     },
     "output_type": "display_data"
    }
   ],
   "source": [
    "per_NaN_val=((df.isna().sum() / df.shape[0])*100)\n",
    "per_NaN_val.sort_values(ascending=False).plot(kind=\"barh\")"
   ]
  },
  {
   "cell_type": "code",
   "execution_count": 15,
   "id": "cdc1889c",
   "metadata": {},
   "outputs": [
    {
     "name": "stdout",
     "output_type": "stream",
     "text": [
      "<class 'pandas.core.frame.DataFrame'>\n",
      "DatetimeIndex: 112 entries, 2011-12-31 to 2021-03-31\n",
      "Freq: M\n",
      "Data columns (total 7 columns):\n",
      " #   Column           Non-Null Count  Dtype  \n",
      "---  ------           --------------  -----  \n",
      " 0   Open             112 non-null    float64\n",
      " 1   High             112 non-null    float64\n",
      " 2   Low              112 non-null    float64\n",
      " 3   Close            112 non-null    float64\n",
      " 4   Volume_BTC       112 non-null    float64\n",
      " 5   Volume_Currency  112 non-null    float64\n",
      " 6   Weighted_Price   112 non-null    float64\n",
      "dtypes: float64(7)\n",
      "memory usage: 7.0 KB\n"
     ]
    }
   ],
   "source": [
    "df.info()"
   ]
  },
  {
   "cell_type": "code",
   "execution_count": 16,
   "id": "ea7bfc78",
   "metadata": {},
   "outputs": [],
   "source": [
    "# fill NaN values\n",
    "df[\"Open\"]=df[\"Open\"].fillna(df[\"Open\"].median())\n",
    "df[\"High\"]=df[\"High\"].fillna(df[\"High\"].median())\n",
    "df[\"Low\"]=df[\"Low\"].fillna(df[\"Low\"].median())\n",
    "df[\"Close\"]=df[\"Close\"].fillna(df[\"Close\"].median())\n",
    "df[\"Volume_BTC\"]=df[\"Volume_BTC\"].fillna(df[\"Volume_BTC\"].median())\n",
    "df[\"Volume_Currency\"]=df[\"Volume_Currency\"].fillna(df[\"Volume_Currency\"].median())\n",
    "df[\"Weighted_Price\"]=df[\"Weighted_Price\"].fillna(df[\"Weighted_Price\"].median())"
   ]
  },
  {
   "cell_type": "code",
   "execution_count": 17,
   "id": "7bd983a6",
   "metadata": {},
   "outputs": [
    {
     "data": {
      "text/plain": [
       "Open               0\n",
       "High               0\n",
       "Low                0\n",
       "Close              0\n",
       "Volume_BTC         0\n",
       "Volume_Currency    0\n",
       "Weighted_Price     0\n",
       "dtype: int64"
      ]
     },
     "execution_count": 17,
     "metadata": {},
     "output_type": "execute_result"
    }
   ],
   "source": [
    "df.isna().sum()"
   ]
  },
  {
   "cell_type": "code",
   "execution_count": 18,
   "id": "995a7061",
   "metadata": {},
   "outputs": [],
   "source": [
    "x=df.drop(\"Weighted_Price\",axis=1)\n",
    "y=df[\"Weighted_Price\"]"
   ]
  },
  {
   "cell_type": "markdown",
   "id": "619b5d7a",
   "metadata": {},
   "source": [
    "# Spliting"
   ]
  },
  {
   "cell_type": "code",
   "execution_count": 19,
   "id": "32f7b010",
   "metadata": {},
   "outputs": [],
   "source": [
    "x_train,x_test,y_train,y_test=train_test_split(x,y,test_size=0.2,random_state=1)"
   ]
  },
  {
   "cell_type": "markdown",
   "id": "80e57684",
   "metadata": {},
   "source": [
    "# Model Training"
   ]
  },
  {
   "cell_type": "markdown",
   "id": "a8dabe3d",
   "metadata": {},
   "source": [
    "## 1.Using Linear Regression"
   ]
  },
  {
   "cell_type": "code",
   "execution_count": 20,
   "id": "0afd55a9",
   "metadata": {},
   "outputs": [
    {
     "data": {
      "text/plain": [
       "LinearRegression()"
      ]
     },
     "execution_count": 20,
     "metadata": {},
     "output_type": "execute_result"
    }
   ],
   "source": [
    "reg_model=LinearRegression()\n",
    "reg_model.fit(x_train,y_train)"
   ]
  },
  {
   "cell_type": "markdown",
   "id": "14de2066",
   "metadata": {},
   "source": [
    "# Model Evaluation"
   ]
  },
  {
   "cell_type": "markdown",
   "id": "72945a31",
   "metadata": {},
   "source": [
    "## Testing Data Evaluation"
   ]
  },
  {
   "cell_type": "code",
   "execution_count": 21,
   "id": "923f1493",
   "metadata": {},
   "outputs": [
    {
     "name": "stdout",
     "output_type": "stream",
     "text": [
      "Mean Square Error :0.07355335975223985\n",
      "\n",
      "Mean Absolute Error :0.17127868038448518\n",
      "\n",
      "Accuracy of model :0.9999999958646882\n"
     ]
    }
   ],
   "source": [
    "y_pred_test=reg_model.predict(x_test)\n",
    "\n",
    "MSE=mean_squared_error(y_test,y_pred_test)\n",
    "print(f\"Mean Square Error :{MSE}\")\n",
    "print()\n",
    "MAE=mean_absolute_error(y_test,y_pred_test)\n",
    "print(f\"Mean Absolute Error :{MAE}\")\n",
    "print()\n",
    "R2_Score=r2_score(y_test,y_pred_test)\n",
    "print(f\"Accuracy of model :{R2_Score}\")"
   ]
  },
  {
   "cell_type": "markdown",
   "id": "d8ac152d",
   "metadata": {},
   "source": [
    "## Training Data Accuracy"
   ]
  },
  {
   "cell_type": "code",
   "execution_count": 22,
   "id": "206105a0",
   "metadata": {},
   "outputs": [
    {
     "name": "stdout",
     "output_type": "stream",
     "text": [
      "Mean Square Error :0.029193696063968582\n",
      "\n",
      "Mean Absolute Error :0.10078846625611786\n",
      "\n",
      "Accuracy of model :0.999999999630439\n"
     ]
    }
   ],
   "source": [
    "y_pred_train=reg_model.predict(x_train)\n",
    "\n",
    "MSE=mean_squared_error(y_train,y_pred_train)\n",
    "print(f\"Mean Square Error :{MSE}\")\n",
    "print()\n",
    "MAE=mean_absolute_error(y_train,y_pred_train)\n",
    "print(f\"Mean Absolute Error :{MAE}\")\n",
    "print()\n",
    "R2_Score=r2_score(y_train,y_pred_train)\n",
    "print(f\"Accuracy of model :{R2_Score}\")"
   ]
  },
  {
   "cell_type": "markdown",
   "id": "29e52aef",
   "metadata": {},
   "source": [
    "## 2.Using Decision Tree"
   ]
  },
  {
   "cell_type": "code",
   "execution_count": 23,
   "id": "cc7d432c",
   "metadata": {},
   "outputs": [
    {
     "data": {
      "text/plain": [
       "DecisionTreeRegressor()"
      ]
     },
     "execution_count": 23,
     "metadata": {},
     "output_type": "execute_result"
    }
   ],
   "source": [
    "dt_model=DecisionTreeRegressor()\n",
    "dt_model.fit(x_train,y_train)"
   ]
  },
  {
   "cell_type": "markdown",
   "id": "e372b26e",
   "metadata": {},
   "source": [
    "## Testing Data Accuracy"
   ]
  },
  {
   "cell_type": "code",
   "execution_count": 24,
   "id": "420deee3",
   "metadata": {},
   "outputs": [
    {
     "name": "stdout",
     "output_type": "stream",
     "text": [
      "Mean Square Error :241399.43100412685\n",
      "\n",
      "Mean Absolute Error :263.8298125701092\n",
      "\n",
      "Accuracy of model :0.9864280584874298\n"
     ]
    }
   ],
   "source": [
    "y_pred_test=dt_model.predict(x_test)\n",
    "\n",
    "MSE=mean_squared_error(y_test,y_pred_test)\n",
    "print(f\"Mean Square Error :{MSE}\")\n",
    "print()\n",
    "MAE=mean_absolute_error(y_test,y_pred_test)\n",
    "print(f\"Mean Absolute Error :{MAE}\")\n",
    "print()\n",
    "R2_Score=r2_score(y_test,y_pred_test)\n",
    "print(f\"Accuracy of model :{R2_Score}\")"
   ]
  },
  {
   "cell_type": "markdown",
   "id": "49e2d654",
   "metadata": {},
   "source": [
    "## Training Data Accuracy"
   ]
  },
  {
   "cell_type": "code",
   "execution_count": 25,
   "id": "ff1aa6f7",
   "metadata": {},
   "outputs": [
    {
     "name": "stdout",
     "output_type": "stream",
     "text": [
      "Mean Square Error :0.0\n",
      "\n",
      "Mean Absolute Error :0.0\n",
      "\n",
      "Accuracy of model :1.0\n"
     ]
    }
   ],
   "source": [
    "y_pred_train=dt_model.predict(x_train)\n",
    "\n",
    "MSE=mean_squared_error(y_train,y_pred_train)\n",
    "print(f\"Mean Square Error :{MSE}\")\n",
    "print()\n",
    "MAE=mean_absolute_error(y_train,y_pred_train)\n",
    "print(f\"Mean Absolute Error :{MAE}\")\n",
    "print()\n",
    "R2_Score=r2_score(y_train,y_pred_train)\n",
    "print(f\"Accuracy of model :{R2_Score}\")"
   ]
  },
  {
   "cell_type": "markdown",
   "id": "c7ba1928",
   "metadata": {},
   "source": [
    "# Hyperparameter Tunning"
   ]
  },
  {
   "cell_type": "code",
   "execution_count": 26,
   "id": "4172722d",
   "metadata": {},
   "outputs": [
    {
     "data": {
      "text/plain": [
       "RandomizedSearchCV(cv=5, estimator=DecisionTreeRegressor(),\n",
       "                   param_distributions={'max_depth': array([2, 3, 4, 5, 6, 7, 8, 9]),\n",
       "                                        'min_samples_leaf': array([ 1,  2,  3,  4,  5,  6,  7,  8,  9, 10, 11, 12, 13, 14]),\n",
       "                                        'min_samples_split': array([ 2,  3,  4,  5,  6,  7,  8,  9, 10, 11, 12, 13, 14])})"
      ]
     },
     "execution_count": 26,
     "metadata": {},
     "output_type": "execute_result"
    }
   ],
   "source": [
    "dt_model=DecisionTreeRegressor()\n",
    "hyp_para={\"max_depth\":np.arange(2,10),\n",
    "         \"min_samples_leaf\":np.arange(1,15),\n",
    "         \"min_samples_split\":np.arange(2,15)}\n",
    "rscv_model=RandomizedSearchCV(dt_model,hyp_para,cv=5)\n",
    "rscv_model.fit(x_train,y_train)"
   ]
  },
  {
   "cell_type": "code",
   "execution_count": 27,
   "id": "dc86361d",
   "metadata": {},
   "outputs": [
    {
     "data": {
      "text/plain": [
       "DecisionTreeRegressor(max_depth=9, min_samples_leaf=3, min_samples_split=10)"
      ]
     },
     "execution_count": 27,
     "metadata": {},
     "output_type": "execute_result"
    }
   ],
   "source": [
    "rscv_model.best_estimator_"
   ]
  },
  {
   "cell_type": "code",
   "execution_count": 28,
   "id": "e8628c10",
   "metadata": {},
   "outputs": [
    {
     "data": {
      "text/plain": [
       "{'min_samples_split': 10, 'min_samples_leaf': 3, 'max_depth': 9}"
      ]
     },
     "execution_count": 28,
     "metadata": {},
     "output_type": "execute_result"
    }
   ],
   "source": [
    "rscv_model.best_params_"
   ]
  },
  {
   "cell_type": "markdown",
   "id": "aa49843b",
   "metadata": {},
   "source": [
    "# Model Training"
   ]
  },
  {
   "cell_type": "code",
   "execution_count": 29,
   "id": "9336b7d4",
   "metadata": {},
   "outputs": [
    {
     "data": {
      "text/plain": [
       "DecisionTreeRegressor(max_depth=7, min_samples_leaf=6, min_samples_split=12)"
      ]
     },
     "execution_count": 29,
     "metadata": {},
     "output_type": "execute_result"
    }
   ],
   "source": [
    "dt_model=DecisionTreeRegressor(max_depth=7, min_samples_leaf=6, min_samples_split=12)\n",
    "dt_model.fit(x_train,y_train)"
   ]
  },
  {
   "cell_type": "markdown",
   "id": "5177e4a6",
   "metadata": {},
   "source": [
    "## Testing Data Evaluation"
   ]
  },
  {
   "cell_type": "code",
   "execution_count": 30,
   "id": "72f7dcd8",
   "metadata": {},
   "outputs": [
    {
     "name": "stdout",
     "output_type": "stream",
     "text": [
      "Mean Square Error :421556.870310843\n",
      "\n",
      "Mean Absolute Error :445.5996638685958\n",
      "\n",
      "Accuracy of model :0.97629925984381\n"
     ]
    }
   ],
   "source": [
    "y_pred_test=dt_model.predict(x_test)\n",
    "\n",
    "MSE=mean_squared_error(y_test,y_pred_test)\n",
    "print(f\"Mean Square Error :{MSE}\")\n",
    "print()\n",
    "MAE=mean_absolute_error(y_test,y_pred_test)\n",
    "print(f\"Mean Absolute Error :{MAE}\")\n",
    "print()\n",
    "R2_Score=r2_score(y_test,y_pred_test)\n",
    "print(f\"Accuracy of model :{R2_Score}\")"
   ]
  },
  {
   "cell_type": "markdown",
   "id": "773a576e",
   "metadata": {},
   "source": [
    "## Training Data Evaluation"
   ]
  },
  {
   "cell_type": "code",
   "execution_count": 31,
   "id": "954ef67d",
   "metadata": {},
   "outputs": [
    {
     "name": "stdout",
     "output_type": "stream",
     "text": [
      "Mean Square Error :15368600.682345005\n",
      "\n",
      "Mean Absolute Error :1176.1851499186837\n",
      "\n",
      "Accuracy of model :0.8054499064962848\n"
     ]
    }
   ],
   "source": [
    "y_pred_train=dt_model.predict(x_train)\n",
    "\n",
    "MSE=mean_squared_error(y_train,y_pred_train)\n",
    "print(f\"Mean Square Error :{MSE}\")\n",
    "print()\n",
    "MAE=mean_absolute_error(y_train,y_pred_train)\n",
    "print(f\"Mean Absolute Error :{MAE}\")\n",
    "print()\n",
    "R2_Score=r2_score(y_train,y_pred_train)\n",
    "print(f\"Accuracy of model :{R2_Score}\")"
   ]
  },
  {
   "cell_type": "markdown",
   "id": "38d6b148",
   "metadata": {},
   "source": [
    "## 3.Random Forest"
   ]
  },
  {
   "cell_type": "code",
   "execution_count": 32,
   "id": "b5857d4a",
   "metadata": {},
   "outputs": [
    {
     "data": {
      "text/plain": [
       "RandomForestRegressor()"
      ]
     },
     "execution_count": 32,
     "metadata": {},
     "output_type": "execute_result"
    }
   ],
   "source": [
    "rf_model=RandomForestRegressor()\n",
    "rf_model.fit(x_train,y_train)"
   ]
  },
  {
   "cell_type": "markdown",
   "id": "b82e8dad",
   "metadata": {},
   "source": [
    "## Testing Data Accuracy"
   ]
  },
  {
   "cell_type": "code",
   "execution_count": 33,
   "id": "01b22604",
   "metadata": {},
   "outputs": [
    {
     "name": "stdout",
     "output_type": "stream",
     "text": [
      "Mean Square Error :45551.09357852817\n",
      "\n",
      "Mean Absolute Error :127.77461817773958\n",
      "\n",
      "Accuracy of model :0.9974390296807666\n"
     ]
    }
   ],
   "source": [
    "y_pred_test=rf_model.predict(x_test)\n",
    "\n",
    "MSE=mean_squared_error(y_test,y_pred_test)\n",
    "print(f\"Mean Square Error :{MSE}\")\n",
    "print()\n",
    "MAE=mean_absolute_error(y_test,y_pred_test)\n",
    "print(f\"Mean Absolute Error :{MAE}\")\n",
    "print()\n",
    "R2_Score=r2_score(y_test,y_pred_test)\n",
    "print(f\"Accuracy of model :{R2_Score}\")"
   ]
  },
  {
   "cell_type": "markdown",
   "id": "3aa959e8",
   "metadata": {},
   "source": [
    "## Training Data Accuracy"
   ]
  },
  {
   "cell_type": "code",
   "execution_count": 34,
   "id": "a2719abf",
   "metadata": {},
   "outputs": [
    {
     "name": "stdout",
     "output_type": "stream",
     "text": [
      "Mean Square Error :800915.5207804509\n",
      "\n",
      "Mean Absolute Error :185.1319855814408\n",
      "\n",
      "Accuracy of model :0.9898612637105333\n"
     ]
    }
   ],
   "source": [
    "y_pred_train=rf_model.predict(x_train)\n",
    "\n",
    "MSE=mean_squared_error(y_train,y_pred_train)\n",
    "print(f\"Mean Square Error :{MSE}\")\n",
    "print()\n",
    "MAE=mean_absolute_error(y_train,y_pred_train)\n",
    "print(f\"Mean Absolute Error :{MAE}\")\n",
    "print()\n",
    "R2_Score=r2_score(y_train,y_pred_train)\n",
    "print(f\"Accuracy of model :{R2_Score}\")"
   ]
  },
  {
   "cell_type": "markdown",
   "id": "cab5206c",
   "metadata": {},
   "source": [
    "# Hyperparameter Tunning"
   ]
  },
  {
   "cell_type": "code",
   "execution_count": 35,
   "id": "b6c63aee",
   "metadata": {},
   "outputs": [
    {
     "data": {
      "text/plain": [
       "RandomizedSearchCV(cv=5, estimator=RandomForestRegressor(),\n",
       "                   param_distributions={'max_depth': array([2, 3, 4, 5, 6, 7, 8, 9]),\n",
       "                                        'min_samples_leaf': array([ 1,  2,  3,  4,  5,  6,  7,  8,  9, 10, 11, 12, 13, 14]),\n",
       "                                        'min_samples_split': array([ 2,  3,  4,  5,  6,  7,  8,  9, 10, 11, 12, 13, 14]),\n",
       "                                        'n_estimators': array([10, 11, 12, 13, 14, 15, 16, 17, 18, 19, 20, 21, 22, 23, 24, 25, 26,\n",
       "       27, 28, 29, 30, 31, 32, 33, 34, 35, 36, 37, 38, 39, 40, 41, 42, 43,\n",
       "       44, 45, 46, 47, 48, 49, 50, 51, 52, 53, 54, 55, 56, 57, 58, 59, 60,\n",
       "       61, 62, 63, 64, 65, 66, 67, 68, 69, 70, 71, 72, 73, 74, 75, 76, 77,\n",
       "       78, 79, 80, 81, 82, 83, 84, 85, 86, 87, 88, 89, 90, 91, 92, 93, 94,\n",
       "       95, 96, 97, 98, 99])})"
      ]
     },
     "execution_count": 35,
     "metadata": {},
     "output_type": "execute_result"
    }
   ],
   "source": [
    "random_model=RandomForestRegressor()\n",
    "hyp_para={\"n_estimators\":np.arange(10,100),\n",
    "         \"max_depth\":np.arange(2,10),\n",
    "         \"min_samples_leaf\":np.arange(1,15),\n",
    "         \"min_samples_split\":np.arange(2,15)}\n",
    "rscv_model=RandomizedSearchCV(random_model,hyp_para,cv=5)\n",
    "rscv_model.fit(x_train,y_train)"
   ]
  },
  {
   "cell_type": "code",
   "execution_count": 36,
   "id": "6688b3e6",
   "metadata": {},
   "outputs": [
    {
     "data": {
      "text/plain": [
       "RandomForestRegressor(max_depth=5, min_samples_leaf=2, min_samples_split=6,\n",
       "                      n_estimators=95)"
      ]
     },
     "execution_count": 36,
     "metadata": {},
     "output_type": "execute_result"
    }
   ],
   "source": [
    "rscv_model.best_estimator_"
   ]
  },
  {
   "cell_type": "code",
   "execution_count": 37,
   "id": "ffa60f16",
   "metadata": {},
   "outputs": [
    {
     "data": {
      "text/plain": [
       "{'n_estimators': 95,\n",
       " 'min_samples_split': 6,\n",
       " 'min_samples_leaf': 2,\n",
       " 'max_depth': 5}"
      ]
     },
     "execution_count": 37,
     "metadata": {},
     "output_type": "execute_result"
    }
   ],
   "source": [
    "rscv_model.best_params_"
   ]
  },
  {
   "cell_type": "markdown",
   "id": "ee6d205e",
   "metadata": {},
   "source": [
    "# Model Training"
   ]
  },
  {
   "cell_type": "code",
   "execution_count": 38,
   "id": "9f81b7ca",
   "metadata": {},
   "outputs": [
    {
     "data": {
      "text/plain": [
       "RandomForestRegressor(max_depth=5, min_samples_split=3, n_estimators=81)"
      ]
     },
     "execution_count": 38,
     "metadata": {},
     "output_type": "execute_result"
    }
   ],
   "source": [
    "rf_model=RandomForestRegressor(max_depth=5, min_samples_split=3, min_samples_leaf=1,n_estimators=81)\n",
    "rf_model.fit(x_train,y_train)"
   ]
  },
  {
   "cell_type": "markdown",
   "id": "84658dcc",
   "metadata": {},
   "source": [
    "## Testing Data Accuracy"
   ]
  },
  {
   "cell_type": "code",
   "execution_count": 39,
   "id": "e76348e1",
   "metadata": {},
   "outputs": [
    {
     "name": "stdout",
     "output_type": "stream",
     "text": [
      "Mean Square Error :68935.55637766342\n",
      "\n",
      "Mean Absolute Error :182.56436664870236\n",
      "\n",
      "Accuracy of model :0.9961243100888745\n"
     ]
    }
   ],
   "source": [
    "y_pred_test=rf_model.predict(x_test)\n",
    "\n",
    "MSE=mean_squared_error(y_test,y_pred_test)\n",
    "print(f\"Mean Square Error :{MSE}\")\n",
    "print()\n",
    "MAE=mean_absolute_error(y_test,y_pred_test)\n",
    "print(f\"Mean Absolute Error :{MAE}\")\n",
    "print()\n",
    "R2_Score=r2_score(y_test,y_pred_test)\n",
    "print(f\"Accuracy of model :{R2_Score}\")"
   ]
  },
  {
   "cell_type": "markdown",
   "id": "71976547",
   "metadata": {},
   "source": [
    "## Training Data Accuracy"
   ]
  },
  {
   "cell_type": "code",
   "execution_count": 40,
   "id": "81bdae9c",
   "metadata": {},
   "outputs": [
    {
     "name": "stdout",
     "output_type": "stream",
     "text": [
      "Mean Square Error :1300401.7054233516\n",
      "\n",
      "Mean Absolute Error :259.67007367533574\n",
      "\n",
      "Accuracy of model :0.9835383013319401\n"
     ]
    }
   ],
   "source": [
    "y_pred_train=rf_model.predict(x_train)\n",
    "\n",
    "MSE=mean_squared_error(y_train,y_pred_train)\n",
    "print(f\"Mean Square Error :{MSE}\")\n",
    "print()\n",
    "MAE=mean_absolute_error(y_train,y_pred_train)\n",
    "print(f\"Mean Absolute Error :{MAE}\")\n",
    "print()\n",
    "R2_Score=r2_score(y_train,y_pred_train)\n",
    "print(f\"Accuracy of model :{R2_Score}\")"
   ]
  },
  {
   "cell_type": "code",
   "execution_count": null,
   "id": "2ef0b7e1",
   "metadata": {},
   "outputs": [],
   "source": []
  },
  {
   "cell_type": "markdown",
   "id": "08655907",
   "metadata": {},
   "source": [
    "## Accuracies of Model using Linear Regression"
   ]
  },
  {
   "cell_type": "markdown",
   "id": "e140c15b",
   "metadata": {},
   "source": [
    "Testing Data Accuracy :0.99 \n",
    "\n",
    "Training Data Accuracy :0.99   "
   ]
  },
  {
   "cell_type": "markdown",
   "id": "857a7033",
   "metadata": {},
   "source": [
    "## Accuracies of Model using Decision Tree"
   ]
  },
  {
   "cell_type": "markdown",
   "id": "f5eca8a7",
   "metadata": {},
   "source": [
    "Testing Data Accuracy :0.92 \n",
    "Training Data Accuracy :1\n",
    "    \n",
    "Using Hyperparametric Tunning\n",
    "\n",
    "Testing Data Accuracy :0.96 \n",
    "Training Data Accuracy :0.78"
   ]
  },
  {
   "cell_type": "markdown",
   "id": "fb12bb75",
   "metadata": {},
   "source": [
    "## Accuracies of Model using Random Forest"
   ]
  },
  {
   "cell_type": "markdown",
   "id": "1d0e25fe",
   "metadata": {},
   "source": [
    "Testing Data Accuracy :0.99\n",
    "Training Data Accuracy :0.99\n",
    "    \n",
    "Using Hyperparametric Tunning\n",
    "\n",
    "Testing Data Accuracy :0.99 \n",
    "Training Data Accuracy :0.97"
   ]
  },
  {
   "cell_type": "code",
   "execution_count": null,
   "id": "048a88a9",
   "metadata": {},
   "outputs": [],
   "source": []
  },
  {
   "cell_type": "markdown",
   "id": "55efc5dc",
   "metadata": {},
   "source": [
    "# API"
   ]
  },
  {
   "cell_type": "code",
   "execution_count": 41,
   "id": "468a0c48",
   "metadata": {},
   "outputs": [
    {
     "data": {
      "text/plain": [
       "array([5.98345514e+02, 7.18491060e+03, 4.47241466e+02, 2.73239733e+03,\n",
       "       4.39234621e+02, 2.83046587e+02, 5.18520314e+03, 5.96299571e+02,\n",
       "       5.98345514e+02, 6.59159213e+02, 3.43555055e+01, 5.61384078e+02,\n",
       "       1.18614415e+04, 4.90115178e+01, 4.44439612e+04, 5.92082544e+02,\n",
       "       3.53253198e+02, 3.61590253e+03, 2.83046587e+02, 2.73239733e+03,\n",
       "       9.26808103e+03, 6.90372980e+03, 2.75193800e+02, 6.92047151e+03,\n",
       "       9.97097061e+02, 5.35231390e+03, 5.67294714e+02, 3.57231259e+02,\n",
       "       1.29544808e+04, 8.33560807e+03, 3.43555055e+01, 8.33975854e+03,\n",
       "       4.23773221e+01, 8.37392453e+03, 2.63627679e+02, 4.39234621e+02,\n",
       "       2.78248386e+02, 9.23603233e+03, 4.36005901e+02, 6.98410917e+02,\n",
       "       3.67257606e+04, 2.83046587e+02, 1.13842501e+03, 5.35231390e+03,\n",
       "       1.18614415e+04, 4.39234621e+02, 6.31956514e+01, 3.43555055e+01,\n",
       "       5.96299571e+02, 2.04864031e+04, 3.53253198e+02, 3.59194395e+03,\n",
       "       3.43555055e+01, 8.26392798e+02, 3.43555055e+01, 9.18541577e+03,\n",
       "       5.92082544e+02, 1.14533155e+02, 9.14812800e+02, 1.00401559e+03,\n",
       "       3.43555055e+01, 4.49062187e+04, 3.43555055e+01, 3.59194395e+03,\n",
       "       3.76629136e+03, 7.16923885e+03, 3.43555055e+01, 5.13116308e+02,\n",
       "       4.67157875e+02, 3.43555055e+01, 3.64913397e+03, 5.49378062e+01,\n",
       "       6.09871450e+01, 4.39234621e+02, 8.32303433e+02, 3.43555055e+01,\n",
       "       7.80944882e+03, 8.01640989e+03, 3.43555055e+01, 7.90146787e+01,\n",
       "       9.98104954e+02, 7.15432676e+03, 3.43555055e+01, 9.17714577e+03,\n",
       "       3.43555055e+01, 1.70726232e+04, 3.43555055e+01, 1.56383461e+04,\n",
       "       2.78248386e+02])"
      ]
     },
     "execution_count": 41,
     "metadata": {},
     "output_type": "execute_result"
    }
   ],
   "source": [
    "rf_model.predict(x_train)"
   ]
  },
  {
   "cell_type": "code",
   "execution_count": 42,
   "id": "7abb01c2",
   "metadata": {},
   "outputs": [
    {
     "data": {
      "text/plain": [
       "array([10210.46912257,   278.24838614,   589.92589621,  6847.55175793,\n",
       "        3838.92394295,  9280.11928992,  6982.7067406 ,   598.34551414,\n",
       "         357.23125904,   278.24838614,  2226.59933477,  9983.74076105,\n",
       "          34.35550553,  7162.37230154, 10188.9283451 ,   467.1578751 ,\n",
       "        9299.60406896,  8335.60806733,  9197.80013947,   275.1938003 ,\n",
       "        9758.41201091,    57.14631266,  6903.72980391])"
      ]
     },
     "execution_count": 42,
     "metadata": {},
     "output_type": "execute_result"
    }
   ],
   "source": [
    "rf_model.predict(x_test)"
   ]
  },
  {
   "cell_type": "code",
   "execution_count": 43,
   "id": "0935eb9e",
   "metadata": {},
   "outputs": [
    {
     "data": {
      "text/plain": [
       "array([10210.46912257])"
      ]
     },
     "execution_count": 43,
     "metadata": {},
     "output_type": "execute_result"
    }
   ],
   "source": [
    "rf_model.predict(x_test.head(1))"
   ]
  },
  {
   "cell_type": "code",
   "execution_count": 44,
   "id": "721d6460",
   "metadata": {},
   "outputs": [
    {
     "data": {
      "text/html": [
       "<div>\n",
       "<style scoped>\n",
       "    .dataframe tbody tr th:only-of-type {\n",
       "        vertical-align: middle;\n",
       "    }\n",
       "\n",
       "    .dataframe tbody tr th {\n",
       "        vertical-align: top;\n",
       "    }\n",
       "\n",
       "    .dataframe thead th {\n",
       "        text-align: right;\n",
       "    }\n",
       "</style>\n",
       "<table border=\"1\" class=\"dataframe\">\n",
       "  <thead>\n",
       "    <tr style=\"text-align: right;\">\n",
       "      <th></th>\n",
       "      <th>Open</th>\n",
       "      <th>High</th>\n",
       "      <th>Low</th>\n",
       "      <th>Close</th>\n",
       "      <th>Volume_BTC</th>\n",
       "      <th>Volume_Currency</th>\n",
       "    </tr>\n",
       "    <tr>\n",
       "      <th>Timestamp</th>\n",
       "      <th></th>\n",
       "      <th></th>\n",
       "      <th></th>\n",
       "      <th></th>\n",
       "      <th></th>\n",
       "      <th></th>\n",
       "    </tr>\n",
       "  </thead>\n",
       "  <tbody>\n",
       "    <tr>\n",
       "      <th>2015-08-31</th>\n",
       "      <td>250.83237</td>\n",
       "      <td>250.913152</td>\n",
       "      <td>250.737445</td>\n",
       "      <td>250.826444</td>\n",
       "      <td>14.239493</td>\n",
       "      <td>3427.085319</td>\n",
       "    </tr>\n",
       "  </tbody>\n",
       "</table>\n",
       "</div>"
      ],
      "text/plain": [
       "                 Open        High         Low       Close  Volume_BTC  \\\n",
       "Timestamp                                                               \n",
       "2015-08-31  250.83237  250.913152  250.737445  250.826444   14.239493   \n",
       "\n",
       "            Volume_Currency  \n",
       "Timestamp                    \n",
       "2015-08-31      3427.085319  "
      ]
     },
     "execution_count": 44,
     "metadata": {},
     "output_type": "execute_result"
    }
   ],
   "source": [
    "x_test.iloc[1:2]"
   ]
  },
  {
   "cell_type": "code",
   "execution_count": 45,
   "id": "933f537b",
   "metadata": {},
   "outputs": [
    {
     "data": {
      "text/plain": [
       "Index(['Open', 'High', 'Low', 'Close', 'Volume_BTC', 'Volume_Currency'], dtype='object')"
      ]
     },
     "execution_count": 45,
     "metadata": {},
     "output_type": "execute_result"
    }
   ],
   "source": [
    "x_test.columns"
   ]
  },
  {
   "cell_type": "code",
   "execution_count": 46,
   "id": "d9e74f9e",
   "metadata": {},
   "outputs": [
    {
     "data": {
      "text/plain": [
       "array([278.24838614])"
      ]
     },
     "execution_count": 46,
     "metadata": {},
     "output_type": "execute_result"
    }
   ],
   "source": [
    "def predict_class(Open,High,Low,Close,Volume_BTC,Volume_Currency):\n",
    "    prediction=rf_model.predict([[Open,High,Low,Close,Volume_BTC,Volume_Currency]])\n",
    "    \n",
    "    return prediction\n",
    "\n",
    "predict_class(250.83237,250.913152,250.737445,250.826444,14.239493,3427.085319)"
   ]
  },
  {
   "cell_type": "code",
   "execution_count": 47,
   "id": "2d4b9a3d",
   "metadata": {},
   "outputs": [],
   "source": [
    "import pickle\n",
    "import os\n",
    "\n",
    "model_folder_path='model'\n",
    "if not os.path.exists(model_folder_path):\n",
    "    os.mkdir(model_folder_path)\n",
    "    \n",
    "pickle.dump(rf_model,open(f'{model_folder_path}/model.pkl','wb'))"
   ]
  },
  {
   "cell_type": "code",
   "execution_count": null,
   "id": "8d545ce0",
   "metadata": {},
   "outputs": [],
   "source": []
  },
  {
   "cell_type": "code",
   "execution_count": null,
   "id": "dbb93d28",
   "metadata": {},
   "outputs": [],
   "source": []
  },
  {
   "cell_type": "code",
   "execution_count": null,
   "id": "72fda3a5",
   "metadata": {},
   "outputs": [],
   "source": []
  }
 ],
 "metadata": {
  "kernelspec": {
   "display_name": "Python 3 (ipykernel)",
   "language": "python",
   "name": "python3"
  },
  "language_info": {
   "codemirror_mode": {
    "name": "ipython",
    "version": 3
   },
   "file_extension": ".py",
   "mimetype": "text/x-python",
   "name": "python",
   "nbconvert_exporter": "python",
   "pygments_lexer": "ipython3",
   "version": "3.9.12"
  }
 },
 "nbformat": 4,
 "nbformat_minor": 5
}
